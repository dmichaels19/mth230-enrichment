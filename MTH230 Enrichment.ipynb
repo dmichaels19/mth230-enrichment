{
 "cells": [
  {
   "cell_type": "markdown",
   "metadata": {},
   "source": [
    "# MTH230 Results"
   ]
  },
  {
   "cell_type": "markdown",
   "metadata": {},
   "source": [
    "## Chapter 1: Logic and Proofs"
   ]
  },
  {
   "cell_type": "markdown",
   "metadata": {},
   "source": [
    "**Definition:** a **proposition** is a sentence that is either TRUE or FALSE, for example\n",
    "\n",
    "$\\pi^{2} < 10$"
   ]
  },
  {
   "cell_type": "markdown",
   "metadata": {},
   "source": [
    "**conjunction** the statement $P$ ***AND*** $Q$ will be true if $P$ is TRUE and $Q$ is TRUE but FALSE otherwise"
   ]
  },
  {
   "cell_type": "markdown",
   "metadata": {},
   "source": [
    "**disjunction** the statement $P$ ***OR*** $Q$ will be true if $P$ is TRUE or $Q$ is TRUE or both are TRUE"
   ]
  },
  {
   "cell_type": "markdown",
   "metadata": {},
   "source": [
    "**negation** the statement ***NOT*** P is FALSE if P is TRUE but TRUE if P is FALSE"
   ]
  },
  {
   "cell_type": "markdown",
   "metadata": {},
   "source": [
    "The truth tables for the previous connectives are given by"
   ]
  },
  {
   "cell_type": "markdown",
   "metadata": {},
   "source": [
    "<table>\n",
    "    <tr><th style=\"text-align:center\">Conjunction</th><th style=\"text-align:center\">Disjunction</th><th style=\"text-align:center\">Negation</th></tr>\n",
    "    <tr>\n",
    "        <td><table>\n",
    "        <tr><th>$P$</th><th>$Q$</th><th>$P$ $AND$ $Q$</th></tr>\n",
    "        <tr><td>$T$</td><td>$T$</td><td style=\"text-align:center\">$T$</td></tr>\n",
    "        <tr><td>$T$</td><td>$F$</td><td style=\"text-align:center\">$F$</td></tr>\n",
    "        <tr><td>$F$</td><td>$T$</td><td style=\"text-align:center\">$F$</td></tr>\n",
    "        <tr><td>$F$</td><td>$F$</td><td style=\"text-align:center\">$F$</td></tr>\n",
    "        </table>\n",
    "        </td>\n",
    "        <td><table>\n",
    "        <tr><th>$P$</th><th>$Q$</th><th>$P$ $OR$ $Q$</th></tr>\n",
    "        <tr><td>$T$</td><td>$T$</td><td style=\"text-align:center\">$T$</td></tr>\n",
    "        <tr><td>$T$</td><td>$F$</td><td style=\"text-align:center\">$T$</td></tr>\n",
    "        <tr><td>$F$</td><td>$T$</td><td style=\"text-align:center\">$T$</td></tr>\n",
    "        <tr><td>$F$</td><td>$F$</td><td style=\"text-align:center\">$F$</td></tr>\n",
    "        </table>\n",
    "        </td>\n",
    "        <td><table>\n",
    "        <tr><th>$P$</th><th>$NOT$ $P$</th></tr>\n",
    "        <tr><td>$T$</td><td style=\"text-align:center\">$F$</td></tr>\n",
    "        <tr><td>$F$</td><td style=\"text-align:center\">$T$</td></tr>\n",
    "        </table>\n",
    "        </td>\n",
    "    </tr> \n",
    "</table>"
   ]
  },
  {
   "cell_type": "markdown",
   "metadata": {},
   "source": [
    "**conditional** If $P$, then $Q$, pronounced \"P implies Q\" is given by the truth table\n",
    "\n",
    "<table>\n",
    "    <tr><th>$P$</th><th>$Q$</th><th>$P$ $\\implies$ $Q$</th></tr>\n",
    "    <tr><td>$T$</td><td>$T$</td><td style=\"text-align:center\">$T$</td></tr>\n",
    "    <tr><td>$T$</td><td>$F$</td><td style=\"text-align:center\">$F$</td></tr>\n",
    "    <tr><td>$F$</td><td>$T$</td><td style=\"text-align:center\">$T$</td></tr>\n",
    "    <tr><td>$F$</td><td>$F$</td><td style=\"text-align:center\">$T$</td></tr>\n",
    "</table>"
   ]
  },
  {
   "cell_type": "markdown",
   "metadata": {},
   "source": [
    "The last two rows are sometimes called **vacuously true**, as there is nothing to check. \"If 5 > 7, then 8 < 1\" is vacuously true."
   ]
  },
  {
   "cell_type": "markdown",
   "metadata": {},
   "source": [
    "The **converse** of the conditional \"if $P$, then $Q$\" is \"if $Q$, then $P$\". The conditional being true does not imply that its converse is true.\n",
    "\n",
    "If both are true, the statement is written as \"$P$ **if and only if** $Q$\" and its truth table is as follows:\n",
    "\n",
    "<table>\n",
    "    <tr><th>$P$</th><th>$Q$</th><th>$P$ $\\iff$ $Q$</th></tr>\n",
    "    <tr><td>$T$</td><td>$T$</td><td style=\"text-align:center\">$T$</td></tr>\n",
    "    <tr><td>$T$</td><td>$F$</td><td style=\"text-align:center\">$F$</td></tr>\n",
    "    <tr><td>$F$</td><td>$T$</td><td style=\"text-align:center\">$F$</td></tr>\n",
    "    <tr><td>$F$</td><td>$F$</td><td style=\"text-align:center\">$T$</td></tr>\n",
    "</table>"
   ]
  },
  {
   "cell_type": "markdown",
   "metadata": {},
   "source": [
    "set definition, disjoint, union, subset, belongs to, does not belong to,"
   ]
  },
  {
   "cell_type": "markdown",
   "metadata": {},
   "source": [
    "**universal quantifier** the universal quanitification of $P(x)$ is the statement $P(x)$ is true for all values of $x$ and is written as \n",
    "\n",
    "$\\forall x, P(x)$\n"
   ]
  },
  {
   "cell_type": "markdown",
   "metadata": {},
   "source": [
    "The values of x are assumed to belong to a set called the **universe of discourse**."
   ]
  },
  {
   "cell_type": "markdown",
   "metadata": {},
   "source": [
    "**existential quantifier** the existential quanitification of $P(x)$ is the statement there exists an $x$ for which $P(x)$ is true and is written as \n",
    "\n",
    "$\\exists x, P(x)$\n",
    "\n"
   ]
  },
  {
   "cell_type": "markdown",
   "metadata": {},
   "source": [
    "The negation of quantifiers follows these rules:\n",
    "\n",
    "$NOT$ $(\\forall x, P(x))$ is equivalent to $(\\exists x, NOT$ $P(x))$\n",
    "\n",
    "$NOT$ $(\\exists x, P(x))$ is equivalent to $(\\forall x, NOT$ $P(x))$"
   ]
  },
  {
   "cell_type": "markdown",
   "metadata": {},
   "source": [
    "**counterexample** thus it follows that in order to disprove a \"for all\" statement, one only need to show there exists some $x$ for which $P(x)$ is not true. That $x$ is called a counterexample."
   ]
  },
  {
   "cell_type": "markdown",
   "metadata": {},
   "source": [
    "## Chapter 2: Integers and Diophantine Equations"
   ]
  },
  {
   "cell_type": "markdown",
   "metadata": {},
   "source": [
    "If $a$ and $b$ are integers, we say that $a$ **divides** $b$ if $\\exists q, b = qa$ and write it as $a$ $\\vert$ $b$"
   ]
  },
  {
   "cell_type": "markdown",
   "metadata": {},
   "source": [
    "**Proposition 2.11**\n",
    "\n",
    "Let $a$, $b$, and $c \\in \\mathbb{Z}$\n",
    "\n",
    "*( $i$ )* If $a$ $\\vert$ $b$ and $b$ $\\vert$ $c$, then $a$ $\\vert$ $c$\n",
    "\n",
    "*( $ii$ )* If $a$ $\\vert$ $b$ and $a$ $\\vert$ $c$, then $a$ $\\vert$ $(bx + cy)$ $\\forall x, y \\in \\mathbb{Z}$ \n",
    "\n",
    "*( $iii$ )* If $a$ $\\vert$ $b$ and $b$ $\\vert$ $a$, then $a$ $=$ $\\pm b$\n",
    "\n",
    "*( $iv$ )* If $a$ $\\vert$ $b$ and $b$ is nonzero, then $\\vert a \\vert \\leq \\vert b \\vert$"
   ]
  },
  {
   "cell_type": "markdown",
   "metadata": {},
   "source": [
    "**Division Algorithm 2.12**\n",
    "\n",
    "Let  $a$, $b \\in \\mathbb{Z},$ $b > 0$\n",
    "\n",
    "Then there exist unique integers $q, r$ such that  $a = qb + r,$ where $0 \\leq r < b$"
   ]
  },
  {
   "cell_type": "markdown",
   "metadata": {},
   "source": [
    "**Definition** The **greatest common divisor** of two integers $a$ and $b$, not both zero, is the largest positive integer dividing both $a$ and $b$, denoted by $gcd(a,b)$"
   ]
  },
  {
   "cell_type": "markdown",
   "metadata": {},
   "source": [
    "**Proposition 2.21**\n",
    "\n",
    "If $a = qb + r$, then $gcd(a,b) = gcd(b,r)$"
   ]
  },
  {
   "cell_type": "markdown",
   "metadata": {},
   "source": [
    "**Euclidean Algorithm 2.22**\n",
    "\n",
    "Let $a, b \\in \\mathbb{Z}, b \\neq 0, b \\nmid a$\n",
    "\n",
    "Then $gcd(a,b)$ is the last nonzero remainder $r_{n}$ in the following list of equations obtained from the Division Algorithm. If $b \\nmid a$, then $gcd(a,b) = \\vert b \\vert$\n",
    "\n",
    "\n",
    "$\n",
    "\\begin{matrix}\n",
    "    a       & =      & q_{1}b + r_{1},       & where & 0 < r_{1} < \\vert b \\vert \\\\\n",
    "    b       & =      & q_{2}r_{1} + r_{2},   & where & 0 < r_{2} < r_{1} \\\\\n",
    "    r_{1}   & =      & q_{3}r_{2} + r_{3},   & where & 0 < r_{3} < r_{2} \\\\\n",
    "            & \\vdots &                       &       &  \\\\\n",
    "    r_{n-2} & =      & q_{n}r_{n-1} + r_{n}, & where & 0 < r_{n} < r_{n-1} \\\\\n",
    "    r_{n-1} & =      & q_{n+1}r_{n} + 0.     &       &  \\\\\n",
    "\\end{matrix}\n",
    "$"
   ]
  },
  {
   "cell_type": "markdown",
   "metadata": {},
   "source": [
    "**GCD Characterization Theorem 2.24**\n",
    "\n",
    "If $d$ is a nonnegative common divisor of the integers $a$ and $b$ and $\\exists x,y \\in \\mathbb{Z}$ such that $ax+by = d$, then $d = gcd(a,b)$"
   ]
  },
  {
   "cell_type": "markdown",
   "metadata": {},
   "source": [
    "**Extended Euclidean Algorithm 2.25**"
   ]
  },
  {
   "cell_type": "markdown",
   "metadata": {},
   "source": [
    "**Proposition 2.27**\n",
    "\n",
    "Let $a,b \\in \\mathbb{Z}$\n",
    "\n",
    "*( $i$ )* $gcd(a,b) = 1 \\iff \\exists x,y \\in \\mathbb{Z}$ with $ax + by = 1$\n",
    "\n",
    "*( $ii$ )* If $d = gcd(a,b) \\neq 0$, then $gcd(\\frac{a}{d},\\frac{b}{d}) = 1$"
   ]
  },
  {
   "cell_type": "markdown",
   "metadata": {},
   "source": []
  }
 ],
 "metadata": {
  "kernelspec": {
   "display_name": "Python 3",
   "language": "python",
   "name": "python3"
  },
  "language_info": {
   "codemirror_mode": {
    "name": "ipython",
    "version": 3
   },
   "file_extension": ".py",
   "mimetype": "text/x-python",
   "name": "python",
   "nbconvert_exporter": "python",
   "pygments_lexer": "ipython3",
   "version": "3.6.2"
  }
 },
 "nbformat": 4,
 "nbformat_minor": 2
}
